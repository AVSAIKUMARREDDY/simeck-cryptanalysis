{
 "cells": [
  {
   "cell_type": "code",
   "execution_count": null,
   "id": "a08ca1a8",
   "metadata": {},
   "outputs": [],
   "source": [
    "#pip install import-ipynb"
   ]
  },
  {
   "cell_type": "code",
   "execution_count": null,
   "id": "bea770b6",
   "metadata": {},
   "outputs": [],
   "source": [
    "#!pip install xlwt"
   ]
  },
  {
   "cell_type": "code",
   "execution_count": 1,
   "id": "b331bdde",
   "metadata": {},
   "outputs": [],
   "source": [
    "# import the cipher file \n",
    "import _Simeck_Cipher_32_64 as pc ###\n",
    "import random \n",
    "import xlwt\n",
    "from xlwt import Workbook\n",
    "  "
   ]
  },
  {
   "cell_type": "code",
   "execution_count": 29,
   "id": "5e2c938b",
   "metadata": {},
   "outputs": [],
   "source": [
    "key= 0x8888777799990000 ## define key\n",
    "sc = pc.SimeckCipher(6,key) ## initiate the Simeck class in Priyanka_Simeck_Cipher_32_64 file\n",
    "alpha=[0xffffffff,0x23452345,0x98765678,0x65434567,0x78654567]\n",
    "x1=[]\n",
    "x2=[]\n",
    "y1=[]\n",
    "y2=[]\n",
    "beta=[]\n",
    "wb = Workbook() # Workbook is created\n",
    "worksheet = wb.add_sheet(\"Sheet 1\", cell_overwrite_ok=True)"
   ]
  },
  {
   "cell_type": "code",
   "execution_count": 30,
   "id": "e3fbd6dc",
   "metadata": {},
   "outputs": [],
   "source": [
    "def diff_table():\n",
    "    # generate random x1\n",
    "    for i in range(20):\n",
    "        x1.append((random.randint(0, 2**32)))\n",
    "        \n",
    "    # calculate x2 \n",
    "    for xi in x1:\n",
    "        x2.append((xi)^alpha[0])\n",
    "    \n",
    "    #generate ciphertexts upto 5th (r-1) round \n",
    "    for i in x1:\n",
    "        y1.append(sc.encryption(i,5))\n",
    "    for j in x2:\n",
    "        y2.append(sc.encryption(j,5))\n",
    "    for b in range(len(y1)):\n",
    "        beta.append((int(y1[b])^int(y2[b])))\n",
    "   \n",
    "    for i in range(len(alpha)):\n",
    "        worksheet.write(0,i*2 ,\"alpha = {}\".format(hex(alpha[i])))\n",
    "        #print(\"a\",alpha[i])\n",
    "        for j in range(len(beta)):\n",
    "            #if(j==0):\n",
    "               # sheet1.write(1,i+1, \"alpha = {}\".format(alpha[i]))\n",
    "            worksheet.write(j+1,i*2, \"x1 (plaintext) = {}\".format(hex(x1[j])))\n",
    "            worksheet.write(j+1,i*2+1,\"beta ={} \".format(hex(beta[j])))\n",
    "            #print(\"x\",j)\n",
    "            #print(\"b\",j)\n",
    "    #sheet1.write(0,0, \"alpha = {}\".format(hex(alpha[i])))\n",
    "    wb.save('alpha_beta.xls')"
   ]
  },
  {
   "cell_type": "code",
   "execution_count": 31,
   "id": "af5f2386",
   "metadata": {},
   "outputs": [],
   "source": [
    "#print(diff_table())\n",
    "diff_table() ## call dii_table to get different pairs of alpha and beta"
   ]
  },
  {
   "cell_type": "code",
   "execution_count": 20,
   "id": "0d642038",
   "metadata": {},
   "outputs": [],
   "source": [
    "######  differential probability caculation \n",
    "\n",
    "def hw(gamma):\n",
    "    return bin(gamma).count('1')%2\n",
    "\n",
    "# function to calculate probabilites for any alpha beta pair\n",
    "def pdiff (alpha ,beta):\n",
    "        a=0\n",
    "        b=5\n",
    "        c=1\n",
    "        n=32\n",
    "        gamma = beta ^ sc.leftrotate(alpha ,c)\n",
    "        if alpha == 2**n-1:\n",
    "            if hw(gamma)==0:\n",
    "                return 2**(1-n)\n",
    "            else:\n",
    "                return 0\n",
    "        varibits = sc.leftrotate(alpha , a) | sc.leftrotate(alpha ,b)\n",
    "        if(gamma & ~(varibits)!=0):\n",
    "            return 0\n",
    "        doublebits=sc.leftrotate(alpha,2*a-b)& ~(sc.leftrotate(alpha,a))& sc.leftrotate(alpha,b)\n",
    "        if((gamma ^ sc.leftrotate(gamma,a-b)) & doublebits != 0):\n",
    "            return 0\n",
    "        return 2**(-hw(varibits^doublebits))"
   ]
  },
  {
   "cell_type": "code",
   "execution_count": 24,
   "id": "d59140e3",
   "metadata": {},
   "outputs": [
    {
     "name": "stdout",
     "output_type": "stream",
     "text": [
      "Probabilty diff - for alpha- 4294967295 and beta - 524288 is :  4.656612873077393e-10\n",
      "Probabilty diff - for alpha- 4294967295 and beta - 524291 is :  4.656612873077393e-10\n",
      "Probabilty diff - for alpha- 4294967295 and beta - 805830656 is :  4.656612873077393e-10\n",
      "Probabilty diff - for alpha- 4294967295 and beta - 856162304 is :  4.656612873077393e-10\n",
      "Probabilty diff - for alpha- 4294967295 and beta - 856162304 is :  4.656612873077393e-10\n",
      "Probabilty diff - for alpha- 4294967295 and beta - 4294967295 is :  0\n",
      "Probabilty diff - for alpha- 4278190216 and beta - 4042322160 is :  0\n"
     ]
    }
   ],
   "source": [
    "print(\"Probabilty diff - for alpha- {} and beta - {} is : \".format(0xffffffff,0x00080000),pdiff(0xffffffff,0x00080000))\n",
    "print(\"Probabilty diff - for alpha- {} and beta - {} is : \".format(0xffffffff,0x00080003),pdiff(0xffffffff,0x00080003))\n",
    "print(\"Probabilty diff - for alpha- {} and beta - {} is : \".format(0xffffffff,0x30080000),pdiff(0xffffffff,0x30080000))\n",
    "print(\"Probabilty diff - for alpha- {} and beta - {} is : \".format(0xffffffff,0x33080000),pdiff(0xffffffff,0x33080000))\n",
    "print(\"Probabilty diff - for alpha- {} and beta - {} is : \".format(0xffffffff,0x33080000),pdiff(0xffffffff,0x33080000))\n",
    "print(\"Probabilty diff - for alpha- {} and beta - {} is : \".format(0xffffffff,0xffffffff),pdiff(0xffffffff,0xffffffff))\n",
    "print(\"Probabilty diff - for alpha- {} and beta - {} is : \".format(0xff000088,0xf0f0f0f0),pdiff(0xff000088,0xf0f0f0f0))"
   ]
  },
  {
   "cell_type": "code",
   "execution_count": null,
   "id": "f5eb0ddb",
   "metadata": {},
   "outputs": [],
   "source": []
  }
 ],
 "metadata": {
  "kernelspec": {
   "display_name": "Python 3 (ipykernel)",
   "language": "python",
   "name": "python3"
  },
  "language_info": {
   "codemirror_mode": {
    "name": "ipython",
    "version": 3
   },
   "file_extension": ".py",
   "mimetype": "text/x-python",
   "name": "python",
   "nbconvert_exporter": "python",
   "pygments_lexer": "ipython3",
   "version": "3.9.13"
  }
 },
 "nbformat": 4,
 "nbformat_minor": 5
}
