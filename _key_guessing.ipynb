{
 "cells": [
  {
   "cell_type": "code",
   "execution_count": 3,
   "id": "578bc180",
   "metadata": {},
   "outputs": [],
   "source": [
    "!python _Simeck_Cipher_32_64.py"
   ]
  },
  {
   "cell_type": "code",
   "execution_count": 5,
   "id": "7018a80e",
   "metadata": {},
   "outputs": [],
   "source": [
    "import _Simeck_Cipher_32_64 as pc"
   ]
  },
  {
   "cell_type": "code",
   "execution_count": 6,
   "id": "040dfdce",
   "metadata": {},
   "outputs": [],
   "source": [
    "key= 0x8888777799990000 ## define key\n",
    "sc = pc.SimeckCipher(6,key) ## initiate the Simeck class in Priyanka_Simeck_Cipher_32_64 file"
   ]
  },
  {
   "cell_type": "code",
   "execution_count": 14,
   "id": "7dd65b52",
   "metadata": {},
   "outputs": [],
   "source": [
    "def create_diff_table():\n",
    "    # Calculate the maximum value / differential\n",
    "    ssize = 1 << sc.blocksize\n",
    "    # Generate the matrix of differences, starting\n",
    "    # at all zeros\n",
    "    table = []\n",
    "    c1=[]\n",
    "    c2=[]\n",
    "    for i in range(0,ssize):\n",
    "        table.append([0 for j in range(ssize)])\n",
    "    # Take every possible value for the first plaintext\n",
    "    for x1 in range(0, ssize):\n",
    "        #print(x1)\n",
    "        # Calculate the corresponding ciphertext\n",
    "        y1= sc.encryption(x1,5)\n",
    "        c1.append(sc.encryption(x1,6))\n",
    "        # Now, for each possible differential\n",
    "        for dx in range(1, ssize):\n",
    "            # Calculate the other plaintext and ciphertext\n",
    "            x2 = x1 ^ dx\n",
    "            #print(x2)\n",
    "            y2 = sc.encryption(x2,5)\n",
    "            c2.append(sc.encryption(x2,6))\n",
    "            # Calculate the output differential\n",
    "            dy = y1 ^ y2\n",
    "            #print(dy)\n",
    "            # Increment the count of the characteristic\n",
    "            # in the table corresponding to the two\n",
    "            # differentials\n",
    "            table[dx][dy] += 1\n",
    "\n",
    "    return table,c1,c2\n",
    "\n",
    "#### for all 2^23 values of alpha the table is created\n",
    "\n",
    "table,c1,c2=create_diff_table()\n",
    "max_value = max(table,key=max)\n",
    "max_index = table.index(max_value)\n",
    "max_value1 = max(max_value)\n",
    "max_index1 = max_value.index(max_value1)\n",
    "\n",
    "#print(table)\n",
    "#print(max_value)\n",
    "#print(max_index)\n",
    "#print(max_value1)\n",
    "#print(max_index1)\n",
    "#print(table[max_index][max_index1])\n",
    "beta=max_index\n",
    "print(beta)\n",
    "#alpha=128\n",
    "#beta=128\n",
    "#print(c1)"
   ]
  },
  {
   "cell_type": "code",
   "execution_count": 18,
   "id": "07766399",
   "metadata": {},
   "outputs": [
    {
     "name": "stdout",
     "output_type": "stream",
     "text": [
      "['10', '01', '11', '00']\n"
     ]
    }
   ],
   "source": [
    "###  generate all possible combinations of key\n",
    "##  change the combinations_with_replacement(nums,2) function \n",
    "import itertools as it\n",
    "s = ['0','1'] \n",
    "nums = list(s)\n",
    "combination = list(it.combinations_with_replacement(nums,2))\n",
    "c=[''.join(combinat) for combinat in combination]\n",
    "#print(c)\n",
    "permute = list(it.permutations(nums,2))\n",
    "p=[''.join(permute) for permute in permute]\n",
    "#print(p)\n",
    "RK = list(set(c+p))\n",
    "print(RK)\n",
    "roundkey=[]  \n",
    "counter=[0]*len(RK)        \n",
    "#print(counter)\n",
    "for idx,values in RK:\n",
    "    #print(i)\n",
    "    for j in range(len(c1)):\n",
    "        dy1=sc.decryption_last((int(c1[j])),1,int(values))\n",
    "        dy2=sc.decryption_last((int(c2[j])),1,int(values))\n",
    "        #print(dy1)\n",
    "        #print(dy2)\n",
    "        dbeta=(dy1^dy2)\n",
    "        #print(dbeta)\n",
    "        if(dbeta==beta):\n",
    "            counter[idx]=counter[idx]+1\n",
    "        #print(counter) \n",
    "roundkey.append(RK[(counter.index(max(counter)))])\n",
    "\n",
    "#### last round key guessed\n",
    "print(roundkey)"
   ]
  }
 ],
 "metadata": {
  "kernelspec": {
   "display_name": "Python 3 (ipykernel)",
   "language": "python",
   "name": "python3"
  },
  "language_info": {
   "codemirror_mode": {
    "name": "ipython",
    "version": 3
   },
   "file_extension": ".py",
   "mimetype": "text/x-python",
   "name": "python",
   "nbconvert_exporter": "python",
   "pygments_lexer": "ipython3",
   "version": "3.9.13"
  }
 },
 "nbformat": 4,
 "nbformat_minor": 5
}
